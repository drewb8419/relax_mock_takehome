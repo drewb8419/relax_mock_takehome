{
 "cells": [
  {
   "cell_type": "markdown",
   "id": "a3ca3a25",
   "metadata": {},
   "source": [
    "Summary of approach and findings:\n",
    "\n",
    "Conclusion:  \n",
    "The user table is adequate to make good predictions about who will be an active user. A tuned Random Forest model with 11 features can make predictions with  64% precision and 74% recall. Note that the data is heavily imbalanced with only about 10% of user active users.\n",
    "\n",
    "The most important feature by far was last session creation time. The next two important featuers were features that I created, org id counts and invitation id counts. Org id counts measures how many times an org is associated with a user. So if a user has a org id with a high count, then they have a popular org. Invitation id count is similar, where invitation id is the id of the second user that invited the user.\n",
    "\n",
    "Features:  \n",
    "I dropped name and email address as these are likely not predictive. Last session creation time was converted to a number measuring time past the minimum number which was set to zero. Creation source was converted into dummy variables. Other categorical features were already binary so did not need to be converted to dummies. Org id and invited by user id were converted to value counts and dropped as described above.\n",
    "\n",
    "Finally creation time is a feature that could be predictive, however, the model was not accepting the datatype, so I dropped it.\n",
    "\n",
    "Improvements:  \n",
    "The model could be improved by including creation time. Also, the top org ids and invited by user ids (say the top 3 of each) could be included as dummy variables, with the idea that certain individuals or orgs could be good at attracting or inviting active users."
   ]
  },
  {
   "cell_type": "code",
   "execution_count": 1,
   "id": "owned-religion",
   "metadata": {},
   "outputs": [],
   "source": [
    "import pandas as pd\n",
    "import numpy as np\n",
    "import matplotlib.pyplot as plt\n",
    "from datetime import timedelta\n"
   ]
  },
  {
   "cell_type": "code",
   "execution_count": 2,
   "id": "beautiful-destination",
   "metadata": {},
   "outputs": [],
   "source": [
    "# import Random Forests Classifier\n",
    "from sklearn.ensemble import RandomForestClassifier\n",
    "from sklearn.model_selection import train_test_split\n",
    "from sklearn import preprocessing"
   ]
  },
  {
   "cell_type": "code",
   "execution_count": 3,
   "id": "noble-norway",
   "metadata": {},
   "outputs": [],
   "source": [
    "from sklearn.metrics import auc\n",
    "from sklearn.metrics import classification_report,confusion_matrix,roc_curve,roc_auc_score\n",
    "from sklearn.metrics import accuracy_score,recall_score,precision_score,log_loss\n"
   ]
  },
  {
   "cell_type": "code",
   "execution_count": 4,
   "id": "clean-cleanup",
   "metadata": {},
   "outputs": [],
   "source": [
    "from sklearn.model_selection import RandomizedSearchCV, GridSearchCV"
   ]
  },
  {
   "cell_type": "code",
   "execution_count": 5,
   "id": "overall-columbia",
   "metadata": {},
   "outputs": [],
   "source": [
    "users = pd.read_csv('takehome_users.csv', index_col='object_id')\n"
   ]
  },
  {
   "cell_type": "code",
   "execution_count": 6,
   "id": "solved-gothic",
   "metadata": {},
   "outputs": [
    {
     "data": {
      "text/html": [
       "<div>\n",
       "<style scoped>\n",
       "    .dataframe tbody tr th:only-of-type {\n",
       "        vertical-align: middle;\n",
       "    }\n",
       "\n",
       "    .dataframe tbody tr th {\n",
       "        vertical-align: top;\n",
       "    }\n",
       "\n",
       "    .dataframe thead th {\n",
       "        text-align: right;\n",
       "    }\n",
       "</style>\n",
       "<table border=\"1\" class=\"dataframe\">\n",
       "  <thead>\n",
       "    <tr style=\"text-align: right;\">\n",
       "      <th></th>\n",
       "      <th>creation_time</th>\n",
       "      <th>name</th>\n",
       "      <th>email</th>\n",
       "      <th>creation_source</th>\n",
       "      <th>last_session_creation_time</th>\n",
       "      <th>opted_in_to_mailing_list</th>\n",
       "      <th>enabled_for_marketing_drip</th>\n",
       "      <th>org_id</th>\n",
       "      <th>invited_by_user_id</th>\n",
       "    </tr>\n",
       "    <tr>\n",
       "      <th>object_id</th>\n",
       "      <th></th>\n",
       "      <th></th>\n",
       "      <th></th>\n",
       "      <th></th>\n",
       "      <th></th>\n",
       "      <th></th>\n",
       "      <th></th>\n",
       "      <th></th>\n",
       "      <th></th>\n",
       "    </tr>\n",
       "  </thead>\n",
       "  <tbody>\n",
       "    <tr>\n",
       "      <th>1</th>\n",
       "      <td>2014-04-22 03:53:30</td>\n",
       "      <td>Clausen August</td>\n",
       "      <td>AugustCClausen@yahoo.com</td>\n",
       "      <td>GUEST_INVITE</td>\n",
       "      <td>1.398139e+09</td>\n",
       "      <td>1</td>\n",
       "      <td>0</td>\n",
       "      <td>11</td>\n",
       "      <td>10803.0</td>\n",
       "    </tr>\n",
       "    <tr>\n",
       "      <th>2</th>\n",
       "      <td>2013-11-15 03:45:04</td>\n",
       "      <td>Poole Matthew</td>\n",
       "      <td>MatthewPoole@gustr.com</td>\n",
       "      <td>ORG_INVITE</td>\n",
       "      <td>1.396238e+09</td>\n",
       "      <td>0</td>\n",
       "      <td>0</td>\n",
       "      <td>1</td>\n",
       "      <td>316.0</td>\n",
       "    </tr>\n",
       "    <tr>\n",
       "      <th>3</th>\n",
       "      <td>2013-03-19 23:14:52</td>\n",
       "      <td>Bottrill Mitchell</td>\n",
       "      <td>MitchellBottrill@gustr.com</td>\n",
       "      <td>ORG_INVITE</td>\n",
       "      <td>1.363735e+09</td>\n",
       "      <td>0</td>\n",
       "      <td>0</td>\n",
       "      <td>94</td>\n",
       "      <td>1525.0</td>\n",
       "    </tr>\n",
       "    <tr>\n",
       "      <th>4</th>\n",
       "      <td>2013-05-21 08:09:28</td>\n",
       "      <td>Clausen Nicklas</td>\n",
       "      <td>NicklasSClausen@yahoo.com</td>\n",
       "      <td>GUEST_INVITE</td>\n",
       "      <td>1.369210e+09</td>\n",
       "      <td>0</td>\n",
       "      <td>0</td>\n",
       "      <td>1</td>\n",
       "      <td>5151.0</td>\n",
       "    </tr>\n",
       "    <tr>\n",
       "      <th>5</th>\n",
       "      <td>2013-01-17 10:14:20</td>\n",
       "      <td>Raw Grace</td>\n",
       "      <td>GraceRaw@yahoo.com</td>\n",
       "      <td>GUEST_INVITE</td>\n",
       "      <td>1.358850e+09</td>\n",
       "      <td>0</td>\n",
       "      <td>0</td>\n",
       "      <td>193</td>\n",
       "      <td>5240.0</td>\n",
       "    </tr>\n",
       "  </tbody>\n",
       "</table>\n",
       "</div>"
      ],
      "text/plain": [
       "                 creation_time               name                       email  \\\n",
       "object_id                                                                       \n",
       "1          2014-04-22 03:53:30     Clausen August    AugustCClausen@yahoo.com   \n",
       "2          2013-11-15 03:45:04      Poole Matthew      MatthewPoole@gustr.com   \n",
       "3          2013-03-19 23:14:52  Bottrill Mitchell  MitchellBottrill@gustr.com   \n",
       "4          2013-05-21 08:09:28    Clausen Nicklas   NicklasSClausen@yahoo.com   \n",
       "5          2013-01-17 10:14:20          Raw Grace          GraceRaw@yahoo.com   \n",
       "\n",
       "          creation_source  last_session_creation_time  \\\n",
       "object_id                                               \n",
       "1            GUEST_INVITE                1.398139e+09   \n",
       "2              ORG_INVITE                1.396238e+09   \n",
       "3              ORG_INVITE                1.363735e+09   \n",
       "4            GUEST_INVITE                1.369210e+09   \n",
       "5            GUEST_INVITE                1.358850e+09   \n",
       "\n",
       "           opted_in_to_mailing_list  enabled_for_marketing_drip  org_id  \\\n",
       "object_id                                                                 \n",
       "1                                 1                           0      11   \n",
       "2                                 0                           0       1   \n",
       "3                                 0                           0      94   \n",
       "4                                 0                           0       1   \n",
       "5                                 0                           0     193   \n",
       "\n",
       "           invited_by_user_id  \n",
       "object_id                      \n",
       "1                     10803.0  \n",
       "2                       316.0  \n",
       "3                      1525.0  \n",
       "4                      5151.0  \n",
       "5                      5240.0  "
      ]
     },
     "execution_count": 6,
     "metadata": {},
     "output_type": "execute_result"
    }
   ],
   "source": [
    "users.head()"
   ]
  },
  {
   "cell_type": "code",
   "execution_count": 7,
   "id": "opposed-lawyer",
   "metadata": {},
   "outputs": [],
   "source": [
    "users.creation_time = pd.to_datetime(users.creation_time)"
   ]
  },
  {
   "cell_type": "code",
   "execution_count": 112,
   "id": "binary-antique",
   "metadata": {},
   "outputs": [
    {
     "data": {
      "text/plain": [
       "(Timestamp('2012-05-31 00:43:27'), Timestamp('2014-05-30 23:59:19'))"
      ]
     },
     "execution_count": 112,
     "metadata": {},
     "output_type": "execute_result"
    }
   ],
   "source": [
    "users.creation_time.min(), users.creation_time.max()"
   ]
  },
  {
   "cell_type": "code",
   "execution_count": 8,
   "id": "returning-picnic",
   "metadata": {},
   "outputs": [],
   "source": [
    "start = users.last_session_creation_time.min()\n",
    "users.last_session_creation_time = users.last_session_creation_time-start"
   ]
  },
  {
   "cell_type": "code",
   "execution_count": 9,
   "id": "disabled-flush",
   "metadata": {},
   "outputs": [
    {
     "name": "stdout",
     "output_type": "stream",
     "text": [
      "<class 'pandas.core.frame.DataFrame'>\n",
      "Int64Index: 12000 entries, 1 to 12000\n",
      "Data columns (total 9 columns):\n",
      " #   Column                      Non-Null Count  Dtype         \n",
      "---  ------                      --------------  -----         \n",
      " 0   creation_time               12000 non-null  datetime64[ns]\n",
      " 1   name                        12000 non-null  object        \n",
      " 2   email                       12000 non-null  object        \n",
      " 3   creation_source             12000 non-null  object        \n",
      " 4   last_session_creation_time  8823 non-null   float64       \n",
      " 5   opted_in_to_mailing_list    12000 non-null  int64         \n",
      " 6   enabled_for_marketing_drip  12000 non-null  int64         \n",
      " 7   org_id                      12000 non-null  int64         \n",
      " 8   invited_by_user_id          6417 non-null   float64       \n",
      "dtypes: datetime64[ns](1), float64(2), int64(3), object(3)\n",
      "memory usage: 937.5+ KB\n"
     ]
    }
   ],
   "source": [
    "users.info()"
   ]
  },
  {
   "cell_type": "code",
   "execution_count": 56,
   "id": "joint-forest",
   "metadata": {},
   "outputs": [],
   "source": [
    "users.opted_in_to_mailing_list = users.opted_in_to_mailing_list.astype('object')\n",
    "users.enabled_for_marketing_drip = users.enabled_for_marketing_drip.astype('object')"
   ]
  },
  {
   "cell_type": "code",
   "execution_count": 57,
   "id": "subtle-nature",
   "metadata": {},
   "outputs": [
    {
     "data": {
      "text/plain": [
       "creation_time                 11996\n",
       "creation_source                   5\n",
       "last_session_creation_time     8821\n",
       "opted_in_to_mailing_list          2\n",
       "enabled_for_marketing_drip        2\n",
       "org_id                          417\n",
       "invited_by_user_id             2565\n",
       "org_id_counts                    75\n",
       "invited_id_counts                14\n",
       "dtype: int64"
      ]
     },
     "execution_count": 57,
     "metadata": {},
     "output_type": "execute_result"
    }
   ],
   "source": [
    "users.nunique()"
   ]
  },
  {
   "cell_type": "markdown",
   "id": "african-groove",
   "metadata": {},
   "source": [
    "keep:  \n",
    " 0   creation_time               12000 non-null  datetime  \n",
    " 3   creation_source             12000 non-null  object          \n",
    " 4   last_session_creation_time  8823 non-null   float64         \n",
    " 5   opted_in_to_mailing_list    12000 non-null  int64           \n",
    " 6   enabled_for_marketing_drip  12000 non-null  int64           \n",
    " 7   org_id                      12000 non-null  int64           \n",
    " 8   invited_by_user_id          6417 non-null   float64  \n",
    "\n",
    "drop:  \n",
    " 1   name                        12000 non-null  object          \n",
    " 2   email                       12000 non-null  object          \n"
   ]
  },
  {
   "cell_type": "code",
   "execution_count": 52,
   "id": "federal-logistics",
   "metadata": {},
   "outputs": [],
   "source": [
    "users = users.drop(['name','email'],axis=1)"
   ]
  },
  {
   "cell_type": "code",
   "execution_count": 17,
   "id": "twelve-representation",
   "metadata": {},
   "outputs": [],
   "source": [
    "org_id_vc = users.org_id.value_counts()"
   ]
  },
  {
   "cell_type": "code",
   "execution_count": 15,
   "id": "sought-unemployment",
   "metadata": {},
   "outputs": [],
   "source": [
    "org_id_dict = org_id.to_dict()"
   ]
  },
  {
   "cell_type": "code",
   "execution_count": 21,
   "id": "impaired-trinidad",
   "metadata": {},
   "outputs": [],
   "source": [
    "users['org_id_counts']=0"
   ]
  },
  {
   "cell_type": "code",
   "execution_count": 22,
   "id": "dietary-register",
   "metadata": {},
   "outputs": [],
   "source": [
    "for i in users.index:\n",
    "    users.loc[i,'org_id_counts'] = org_id_dict[users.loc[i,'org_id']]"
   ]
  },
  {
   "cell_type": "code",
   "execution_count": 28,
   "id": "postal-specification",
   "metadata": {},
   "outputs": [
    {
     "data": {
      "text/html": [
       "<div>\n",
       "<style scoped>\n",
       "    .dataframe tbody tr th:only-of-type {\n",
       "        vertical-align: middle;\n",
       "    }\n",
       "\n",
       "    .dataframe tbody tr th {\n",
       "        vertical-align: top;\n",
       "    }\n",
       "\n",
       "    .dataframe thead th {\n",
       "        text-align: right;\n",
       "    }\n",
       "</style>\n",
       "<table border=\"1\" class=\"dataframe\">\n",
       "  <thead>\n",
       "    <tr style=\"text-align: right;\">\n",
       "      <th></th>\n",
       "      <th>org_id</th>\n",
       "      <th>org_id_counts</th>\n",
       "    </tr>\n",
       "    <tr>\n",
       "      <th>object_id</th>\n",
       "      <th></th>\n",
       "      <th></th>\n",
       "    </tr>\n",
       "  </thead>\n",
       "  <tbody>\n",
       "    <tr>\n",
       "      <th>1</th>\n",
       "      <td>11</td>\n",
       "      <td>75</td>\n",
       "    </tr>\n",
       "    <tr>\n",
       "      <th>2</th>\n",
       "      <td>1</td>\n",
       "      <td>233</td>\n",
       "    </tr>\n",
       "    <tr>\n",
       "      <th>3</th>\n",
       "      <td>94</td>\n",
       "      <td>32</td>\n",
       "    </tr>\n",
       "    <tr>\n",
       "      <th>4</th>\n",
       "      <td>1</td>\n",
       "      <td>233</td>\n",
       "    </tr>\n",
       "    <tr>\n",
       "      <th>5</th>\n",
       "      <td>193</td>\n",
       "      <td>16</td>\n",
       "    </tr>\n",
       "  </tbody>\n",
       "</table>\n",
       "</div>"
      ],
      "text/plain": [
       "           org_id  org_id_counts\n",
       "object_id                       \n",
       "1              11             75\n",
       "2               1            233\n",
       "3              94             32\n",
       "4               1            233\n",
       "5             193             16"
      ]
     },
     "execution_count": 28,
     "metadata": {},
     "output_type": "execute_result"
    }
   ],
   "source": [
    "users[['org_id','org_id_counts']].loc[1:5]"
   ]
  },
  {
   "cell_type": "code",
   "execution_count": 38,
   "id": "prospective-sheffield",
   "metadata": {},
   "outputs": [
    {
     "data": {
      "text/plain": [
       "(3.0, 11999.0)"
      ]
     },
     "execution_count": 38,
     "metadata": {},
     "output_type": "execute_result"
    }
   ],
   "source": [
    "# range of ids in this column\n",
    "users.invited_by_user_id.value_counts().index.min(), users.invited_by_user_id.value_counts().index.max()"
   ]
  },
  {
   "cell_type": "code",
   "execution_count": 41,
   "id": "honest-algorithm",
   "metadata": {},
   "outputs": [],
   "source": [
    "# above cell shows that 0 is available for fillna\n",
    "# 0 represents anyone who was not invited by a user\n",
    "users.invited_by_user_id = users.invited_by_user_id.fillna(0)\n"
   ]
  },
  {
   "cell_type": "code",
   "execution_count": 42,
   "id": "settled-driving",
   "metadata": {},
   "outputs": [],
   "source": [
    "invited_id_vc = users.invited_by_user_id.value_counts()"
   ]
  },
  {
   "cell_type": "code",
   "execution_count": 43,
   "id": "copyrighted-throat",
   "metadata": {},
   "outputs": [],
   "source": [
    "invited_id_vc_dict = invited_id_vc.to_dict()"
   ]
  },
  {
   "cell_type": "code",
   "execution_count": 44,
   "id": "numerical-proof",
   "metadata": {},
   "outputs": [
    {
     "data": {
      "text/plain": [
       "5583"
      ]
     },
     "execution_count": 44,
     "metadata": {},
     "output_type": "execute_result"
    }
   ],
   "source": [
    "# number of users who were not invited by anyone\n",
    "invited_id_vc_dict[0]"
   ]
  },
  {
   "cell_type": "code",
   "execution_count": 45,
   "id": "commercial-salad",
   "metadata": {},
   "outputs": [],
   "source": [
    "# initialize column for counts\n",
    "users['invited_id_counts']=0"
   ]
  },
  {
   "cell_type": "code",
   "execution_count": 46,
   "id": "worse-transsexual",
   "metadata": {},
   "outputs": [],
   "source": [
    "for i in users.index:\n",
    "    users.loc[i,'invited_id_counts'] = invited_id_vc_dict[users.loc[i,'invited_by_user_id']]"
   ]
  },
  {
   "cell_type": "code",
   "execution_count": 51,
   "id": "social-envelope",
   "metadata": {},
   "outputs": [
    {
     "data": {
      "text/plain": [
       "11"
      ]
     },
     "execution_count": 51,
     "metadata": {},
     "output_type": "execute_result"
    }
   ],
   "source": [
    "invited_id_vc_dict[1525]"
   ]
  },
  {
   "cell_type": "code",
   "execution_count": 48,
   "id": "published-lemon",
   "metadata": {},
   "outputs": [
    {
     "data": {
      "text/html": [
       "<div>\n",
       "<style scoped>\n",
       "    .dataframe tbody tr th:only-of-type {\n",
       "        vertical-align: middle;\n",
       "    }\n",
       "\n",
       "    .dataframe tbody tr th {\n",
       "        vertical-align: top;\n",
       "    }\n",
       "\n",
       "    .dataframe thead th {\n",
       "        text-align: right;\n",
       "    }\n",
       "</style>\n",
       "<table border=\"1\" class=\"dataframe\">\n",
       "  <thead>\n",
       "    <tr style=\"text-align: right;\">\n",
       "      <th></th>\n",
       "      <th>invited_by_user_id</th>\n",
       "      <th>invited_id_counts</th>\n",
       "    </tr>\n",
       "    <tr>\n",
       "      <th>object_id</th>\n",
       "      <th></th>\n",
       "      <th></th>\n",
       "    </tr>\n",
       "  </thead>\n",
       "  <tbody>\n",
       "    <tr>\n",
       "      <th>2</th>\n",
       "      <td>316.0</td>\n",
       "      <td>3</td>\n",
       "    </tr>\n",
       "    <tr>\n",
       "      <th>3</th>\n",
       "      <td>1525.0</td>\n",
       "      <td>11</td>\n",
       "    </tr>\n",
       "    <tr>\n",
       "      <th>4</th>\n",
       "      <td>5151.0</td>\n",
       "      <td>7</td>\n",
       "    </tr>\n",
       "    <tr>\n",
       "      <th>5</th>\n",
       "      <td>5240.0</td>\n",
       "      <td>5</td>\n",
       "    </tr>\n",
       "  </tbody>\n",
       "</table>\n",
       "</div>"
      ],
      "text/plain": [
       "           invited_by_user_id  invited_id_counts\n",
       "object_id                                       \n",
       "2                       316.0                  3\n",
       "3                      1525.0                 11\n",
       "4                      5151.0                  7\n",
       "5                      5240.0                  5"
      ]
     },
     "execution_count": 48,
     "metadata": {},
     "output_type": "execute_result"
    }
   ],
   "source": [
    "users[['invited_by_user_id','invited_id_counts']][1:5]"
   ]
  },
  {
   "cell_type": "code",
   "execution_count": null,
   "id": "collectible-malawi",
   "metadata": {},
   "outputs": [],
   "source": [
    "users['adopted_user']=False"
   ]
  },
  {
   "cell_type": "code",
   "execution_count": 58,
   "id": "wooden-steering",
   "metadata": {},
   "outputs": [
    {
     "data": {
      "text/html": [
       "<div>\n",
       "<style scoped>\n",
       "    .dataframe tbody tr th:only-of-type {\n",
       "        vertical-align: middle;\n",
       "    }\n",
       "\n",
       "    .dataframe tbody tr th {\n",
       "        vertical-align: top;\n",
       "    }\n",
       "\n",
       "    .dataframe thead th {\n",
       "        text-align: right;\n",
       "    }\n",
       "</style>\n",
       "<table border=\"1\" class=\"dataframe\">\n",
       "  <thead>\n",
       "    <tr style=\"text-align: right;\">\n",
       "      <th></th>\n",
       "      <th>creation_time</th>\n",
       "      <th>creation_source</th>\n",
       "      <th>last_session_creation_time</th>\n",
       "      <th>opted_in_to_mailing_list</th>\n",
       "      <th>enabled_for_marketing_drip</th>\n",
       "      <th>org_id</th>\n",
       "      <th>invited_by_user_id</th>\n",
       "      <th>org_id_counts</th>\n",
       "      <th>invited_id_counts</th>\n",
       "    </tr>\n",
       "    <tr>\n",
       "      <th>object_id</th>\n",
       "      <th></th>\n",
       "      <th></th>\n",
       "      <th></th>\n",
       "      <th></th>\n",
       "      <th></th>\n",
       "      <th></th>\n",
       "      <th></th>\n",
       "      <th></th>\n",
       "      <th></th>\n",
       "    </tr>\n",
       "  </thead>\n",
       "  <tbody>\n",
       "    <tr>\n",
       "      <th>1</th>\n",
       "      <td>2014-04-22 03:53:30</td>\n",
       "      <td>GUEST_INVITE</td>\n",
       "      <td>59686404.0</td>\n",
       "      <td>1</td>\n",
       "      <td>0</td>\n",
       "      <td>11</td>\n",
       "      <td>10803.0</td>\n",
       "      <td>75</td>\n",
       "      <td>1</td>\n",
       "    </tr>\n",
       "    <tr>\n",
       "      <th>2</th>\n",
       "      <td>2013-11-15 03:45:04</td>\n",
       "      <td>ORG_INVITE</td>\n",
       "      <td>57785098.0</td>\n",
       "      <td>0</td>\n",
       "      <td>0</td>\n",
       "      <td>1</td>\n",
       "      <td>316.0</td>\n",
       "      <td>233</td>\n",
       "      <td>3</td>\n",
       "    </tr>\n",
       "    <tr>\n",
       "      <th>3</th>\n",
       "      <td>2013-03-19 23:14:52</td>\n",
       "      <td>ORG_INVITE</td>\n",
       "      <td>25282486.0</td>\n",
       "      <td>0</td>\n",
       "      <td>0</td>\n",
       "      <td>94</td>\n",
       "      <td>1525.0</td>\n",
       "      <td>32</td>\n",
       "      <td>11</td>\n",
       "    </tr>\n",
       "    <tr>\n",
       "      <th>4</th>\n",
       "      <td>2013-05-21 08:09:28</td>\n",
       "      <td>GUEST_INVITE</td>\n",
       "      <td>30757762.0</td>\n",
       "      <td>0</td>\n",
       "      <td>0</td>\n",
       "      <td>1</td>\n",
       "      <td>5151.0</td>\n",
       "      <td>233</td>\n",
       "      <td>7</td>\n",
       "    </tr>\n",
       "    <tr>\n",
       "      <th>5</th>\n",
       "      <td>2013-01-17 10:14:20</td>\n",
       "      <td>GUEST_INVITE</td>\n",
       "      <td>20397254.0</td>\n",
       "      <td>0</td>\n",
       "      <td>0</td>\n",
       "      <td>193</td>\n",
       "      <td>5240.0</td>\n",
       "      <td>16</td>\n",
       "      <td>5</td>\n",
       "    </tr>\n",
       "  </tbody>\n",
       "</table>\n",
       "</div>"
      ],
      "text/plain": [
       "                creation_time creation_source  last_session_creation_time  \\\n",
       "object_id                                                                   \n",
       "1         2014-04-22 03:53:30    GUEST_INVITE                  59686404.0   \n",
       "2         2013-11-15 03:45:04      ORG_INVITE                  57785098.0   \n",
       "3         2013-03-19 23:14:52      ORG_INVITE                  25282486.0   \n",
       "4         2013-05-21 08:09:28    GUEST_INVITE                  30757762.0   \n",
       "5         2013-01-17 10:14:20    GUEST_INVITE                  20397254.0   \n",
       "\n",
       "          opted_in_to_mailing_list enabled_for_marketing_drip  org_id  \\\n",
       "object_id                                                               \n",
       "1                                1                          0      11   \n",
       "2                                0                          0       1   \n",
       "3                                0                          0      94   \n",
       "4                                0                          0       1   \n",
       "5                                0                          0     193   \n",
       "\n",
       "           invited_by_user_id  org_id_counts  invited_id_counts  \n",
       "object_id                                                        \n",
       "1                     10803.0             75                  1  \n",
       "2                       316.0            233                  3  \n",
       "3                      1525.0             32                 11  \n",
       "4                      5151.0            233                  7  \n",
       "5                      5240.0             16                  5  "
      ]
     },
     "execution_count": 58,
     "metadata": {},
     "output_type": "execute_result"
    }
   ],
   "source": [
    "users.head()"
   ]
  },
  {
   "cell_type": "code",
   "execution_count": 59,
   "id": "comparable-fruit",
   "metadata": {},
   "outputs": [],
   "source": [
    "users = users.drop(['org_id','invited_by_user_id'],axis=1)"
   ]
  },
  {
   "cell_type": "code",
   "execution_count": 60,
   "id": "exempt-opposition",
   "metadata": {},
   "outputs": [
    {
     "name": "stdout",
     "output_type": "stream",
     "text": [
      "<class 'pandas.core.frame.DataFrame'>\n",
      "Int64Index: 12000 entries, 1 to 12000\n",
      "Data columns (total 7 columns):\n",
      " #   Column                      Non-Null Count  Dtype         \n",
      "---  ------                      --------------  -----         \n",
      " 0   creation_time               12000 non-null  datetime64[ns]\n",
      " 1   creation_source             12000 non-null  object        \n",
      " 2   last_session_creation_time  8823 non-null   float64       \n",
      " 3   opted_in_to_mailing_list    12000 non-null  object        \n",
      " 4   enabled_for_marketing_drip  12000 non-null  object        \n",
      " 5   org_id_counts               12000 non-null  int64         \n",
      " 6   invited_id_counts           12000 non-null  int64         \n",
      "dtypes: datetime64[ns](1), float64(1), int64(2), object(3)\n",
      "memory usage: 1008.0+ KB\n"
     ]
    }
   ],
   "source": [
    "users.info()"
   ]
  },
  {
   "cell_type": "code",
   "execution_count": 61,
   "id": "dying-vulnerability",
   "metadata": {},
   "outputs": [],
   "source": [
    "engage = pd.read_csv('takehome_user_engagement.csv',parse_dates=True, index_col='time_stamp').sort_values(by='time_stamp')"
   ]
  },
  {
   "cell_type": "code",
   "execution_count": 62,
   "id": "incorrect-miami",
   "metadata": {},
   "outputs": [
    {
     "data": {
      "text/plain": [
       "((12000, 7), (207917, 2))"
      ]
     },
     "execution_count": 62,
     "metadata": {},
     "output_type": "execute_result"
    }
   ],
   "source": [
    "users.shape, engage.shape"
   ]
  },
  {
   "cell_type": "code",
   "execution_count": 63,
   "id": "advisory-seattle",
   "metadata": {},
   "outputs": [
    {
     "data": {
      "text/html": [
       "<div>\n",
       "<style scoped>\n",
       "    .dataframe tbody tr th:only-of-type {\n",
       "        vertical-align: middle;\n",
       "    }\n",
       "\n",
       "    .dataframe tbody tr th {\n",
       "        vertical-align: top;\n",
       "    }\n",
       "\n",
       "    .dataframe thead th {\n",
       "        text-align: right;\n",
       "    }\n",
       "</style>\n",
       "<table border=\"1\" class=\"dataframe\">\n",
       "  <thead>\n",
       "    <tr style=\"text-align: right;\">\n",
       "      <th></th>\n",
       "      <th>user_id</th>\n",
       "      <th>visited</th>\n",
       "    </tr>\n",
       "    <tr>\n",
       "      <th>time_stamp</th>\n",
       "      <th></th>\n",
       "      <th></th>\n",
       "    </tr>\n",
       "  </thead>\n",
       "  <tbody>\n",
       "    <tr>\n",
       "      <th>2012-05-31 08:20:06</th>\n",
       "      <td>10012</td>\n",
       "      <td>1</td>\n",
       "    </tr>\n",
       "    <tr>\n",
       "      <th>2012-05-31 15:47:36</th>\n",
       "      <td>3428</td>\n",
       "      <td>1</td>\n",
       "    </tr>\n",
       "    <tr>\n",
       "      <th>2012-05-31 17:19:37</th>\n",
       "      <td>9899</td>\n",
       "      <td>1</td>\n",
       "    </tr>\n",
       "    <tr>\n",
       "      <th>2012-05-31 21:58:33</th>\n",
       "      <td>1693</td>\n",
       "      <td>1</td>\n",
       "    </tr>\n",
       "    <tr>\n",
       "      <th>2012-06-01 00:17:30</th>\n",
       "      <td>6102</td>\n",
       "      <td>1</td>\n",
       "    </tr>\n",
       "  </tbody>\n",
       "</table>\n",
       "</div>"
      ],
      "text/plain": [
       "                     user_id  visited\n",
       "time_stamp                           \n",
       "2012-05-31 08:20:06    10012        1\n",
       "2012-05-31 15:47:36     3428        1\n",
       "2012-05-31 17:19:37     9899        1\n",
       "2012-05-31 21:58:33     1693        1\n",
       "2012-06-01 00:17:30     6102        1"
      ]
     },
     "execution_count": 63,
     "metadata": {},
     "output_type": "execute_result"
    }
   ],
   "source": [
    "engage.head()"
   ]
  },
  {
   "cell_type": "code",
   "execution_count": 70,
   "id": "miniature-translation",
   "metadata": {},
   "outputs": [
    {
     "name": "stdout",
     "output_type": "stream",
     "text": [
      "1656\n"
     ]
    }
   ],
   "source": [
    "# determine adopted users\n",
    "users['adopted_user']=False\n",
    "count = 0\n",
    "for user in range(len(users)):\n",
    "    df = engage.loc[engage.user_id==user]\n",
    "    df.resample('d').min()   \n",
    "    delta = timedelta(days=7)\n",
    "    for i in range(len(df)):\n",
    "        start_date = df.index[i]\n",
    "        end_date = df.index[i]+delta\n",
    "        if len(df.loc[start_date:end_date])>=3:\n",
    "            users.loc[user,'adopted_user']=True\n",
    "            count +=1\n",
    "            break\n",
    "print(count)"
   ]
  },
  {
   "cell_type": "code",
   "execution_count": 65,
   "id": "confident-helen",
   "metadata": {},
   "outputs": [
    {
     "data": {
      "text/html": [
       "<div>\n",
       "<style scoped>\n",
       "    .dataframe tbody tr th:only-of-type {\n",
       "        vertical-align: middle;\n",
       "    }\n",
       "\n",
       "    .dataframe tbody tr th {\n",
       "        vertical-align: top;\n",
       "    }\n",
       "\n",
       "    .dataframe thead th {\n",
       "        text-align: right;\n",
       "    }\n",
       "</style>\n",
       "<table border=\"1\" class=\"dataframe\">\n",
       "  <thead>\n",
       "    <tr style=\"text-align: right;\">\n",
       "      <th></th>\n",
       "      <th>creation_time</th>\n",
       "      <th>creation_source</th>\n",
       "      <th>last_session_creation_time</th>\n",
       "      <th>opted_in_to_mailing_list</th>\n",
       "      <th>enabled_for_marketing_drip</th>\n",
       "      <th>org_id_counts</th>\n",
       "      <th>invited_id_counts</th>\n",
       "      <th>adopted_user</th>\n",
       "    </tr>\n",
       "    <tr>\n",
       "      <th>object_id</th>\n",
       "      <th></th>\n",
       "      <th></th>\n",
       "      <th></th>\n",
       "      <th></th>\n",
       "      <th></th>\n",
       "      <th></th>\n",
       "      <th></th>\n",
       "      <th></th>\n",
       "    </tr>\n",
       "  </thead>\n",
       "  <tbody>\n",
       "    <tr>\n",
       "      <th>43</th>\n",
       "      <td>2012-12-31 07:13:17</td>\n",
       "      <td>GUEST_INVITE</td>\n",
       "      <td>27557591.0</td>\n",
       "      <td>0</td>\n",
       "      <td>0</td>\n",
       "      <td>38</td>\n",
       "      <td>3</td>\n",
       "      <td>True</td>\n",
       "    </tr>\n",
       "    <tr>\n",
       "      <th>50</th>\n",
       "      <td>2012-06-03 11:02:08</td>\n",
       "      <td>GUEST_INVITE</td>\n",
       "      <td>12537722.0</td>\n",
       "      <td>0</td>\n",
       "      <td>0</td>\n",
       "      <td>40</td>\n",
       "      <td>7</td>\n",
       "      <td>True</td>\n",
       "    </tr>\n",
       "    <tr>\n",
       "      <th>53</th>\n",
       "      <td>2013-02-09 23:47:15</td>\n",
       "      <td>GUEST_INVITE</td>\n",
       "      <td>29345229.0</td>\n",
       "      <td>0</td>\n",
       "      <td>0</td>\n",
       "      <td>44</td>\n",
       "      <td>7</td>\n",
       "      <td>True</td>\n",
       "    </tr>\n",
       "    <tr>\n",
       "      <th>60</th>\n",
       "      <td>2014-03-21 22:56:03</td>\n",
       "      <td>ORG_INVITE</td>\n",
       "      <td>61742157.0</td>\n",
       "      <td>0</td>\n",
       "      <td>0</td>\n",
       "      <td>42</td>\n",
       "      <td>1</td>\n",
       "      <td>True</td>\n",
       "    </tr>\n",
       "    <tr>\n",
       "      <th>63</th>\n",
       "      <td>2012-12-20 16:30:52</td>\n",
       "      <td>SIGNUP_GOOGLE_AUTH</td>\n",
       "      <td>63447046.0</td>\n",
       "      <td>0</td>\n",
       "      <td>0</td>\n",
       "      <td>24</td>\n",
       "      <td>5583</td>\n",
       "      <td>True</td>\n",
       "    </tr>\n",
       "  </tbody>\n",
       "</table>\n",
       "</div>"
      ],
      "text/plain": [
       "                creation_time     creation_source  last_session_creation_time  \\\n",
       "object_id                                                                       \n",
       "43        2012-12-31 07:13:17        GUEST_INVITE                  27557591.0   \n",
       "50        2012-06-03 11:02:08        GUEST_INVITE                  12537722.0   \n",
       "53        2013-02-09 23:47:15        GUEST_INVITE                  29345229.0   \n",
       "60        2014-03-21 22:56:03          ORG_INVITE                  61742157.0   \n",
       "63        2012-12-20 16:30:52  SIGNUP_GOOGLE_AUTH                  63447046.0   \n",
       "\n",
       "          opted_in_to_mailing_list enabled_for_marketing_drip  org_id_counts  \\\n",
       "object_id                                                                      \n",
       "43                               0                          0             38   \n",
       "50                               0                          0             40   \n",
       "53                               0                          0             44   \n",
       "60                               0                          0             42   \n",
       "63                               0                          0             24   \n",
       "\n",
       "           invited_id_counts adopted_user  \n",
       "object_id                                  \n",
       "43                         3         True  \n",
       "50                         7         True  \n",
       "53                         7         True  \n",
       "60                         1         True  \n",
       "63                      5583         True  "
      ]
     },
     "execution_count": 65,
     "metadata": {},
     "output_type": "execute_result"
    }
   ],
   "source": [
    "users[users['adopted_user']==True][5:10]"
   ]
  },
  {
   "cell_type": "code",
   "execution_count": 71,
   "id": "regulated-trail",
   "metadata": {},
   "outputs": [
    {
     "data": {
      "text/plain": [
       "False    10344\n",
       "True      1656\n",
       "Name: adopted_user, dtype: int64"
      ]
     },
     "execution_count": 71,
     "metadata": {},
     "output_type": "execute_result"
    }
   ],
   "source": [
    "# the adopted_user feature is very unbalanced. makes modeling difficult \n",
    "\n",
    "users.adopted_user.value_counts()"
   ]
  },
  {
   "cell_type": "code",
   "execution_count": 72,
   "id": "split-adrian",
   "metadata": {},
   "outputs": [
    {
     "data": {
      "text/plain": [
       "adopted_user\n",
       "False    3.714341e+07\n",
       "True     5.676868e+07\n",
       "Name: last_session_creation_time, dtype: float64"
      ]
     },
     "execution_count": 72,
     "metadata": {},
     "output_type": "execute_result"
    }
   ],
   "source": [
    "users.groupby('adopted_user').mean()['last_session_creation_time']"
   ]
  },
  {
   "cell_type": "code",
   "execution_count": 74,
   "id": "hidden-bachelor",
   "metadata": {},
   "outputs": [
    {
     "data": {
      "text/plain": [
       "44436064.0"
      ]
     },
     "execution_count": 74,
     "metadata": {},
     "output_type": "execute_result"
    }
   ],
   "source": [
    "users.last_session_creation_time.median()"
   ]
  },
  {
   "cell_type": "code",
   "execution_count": 79,
   "id": "unlikely-astronomy",
   "metadata": {},
   "outputs": [
    {
     "data": {
      "text/plain": [
       "<AxesSubplot:>"
      ]
     },
     "execution_count": 79,
     "metadata": {},
     "output_type": "execute_result"
    },
    {
     "data": {
      "image/png": "[encoded data removed]",
      "text/plain": [
       "<Figure size 432x288 with 1 Axes>"
      ]
     },
     "metadata": {
      "needs_background": "light"
     },
     "output_type": "display_data"
    }
   ],
   "source": [
    "users.last_session_creation_time.hist()"
   ]
  },
  {
   "cell_type": "markdown",
   "id": "blind-round",
   "metadata": {},
   "source": [
    "Every user has NaN for 'last session creation time' is not an adopted user! Set Nan to -1 and model should capture all of them."
   ]
  },
  {
   "cell_type": "code",
   "execution_count": 88,
   "id": "cleared-hacker",
   "metadata": {},
   "outputs": [
    {
     "data": {
      "text/html": [
       "<div>\n",
       "<style scoped>\n",
       "    .dataframe tbody tr th:only-of-type {\n",
       "        vertical-align: middle;\n",
       "    }\n",
       "\n",
       "    .dataframe tbody tr th {\n",
       "        vertical-align: top;\n",
       "    }\n",
       "\n",
       "    .dataframe thead th {\n",
       "        text-align: right;\n",
       "    }\n",
       "</style>\n",
       "<table border=\"1\" class=\"dataframe\">\n",
       "  <thead>\n",
       "    <tr style=\"text-align: right;\">\n",
       "      <th></th>\n",
       "      <th>creation_time</th>\n",
       "      <th>creation_source</th>\n",
       "      <th>last_session_creation_time</th>\n",
       "      <th>opted_in_to_mailing_list</th>\n",
       "      <th>enabled_for_marketing_drip</th>\n",
       "      <th>org_id_counts</th>\n",
       "      <th>invited_id_counts</th>\n",
       "    </tr>\n",
       "    <tr>\n",
       "      <th>adopted_user</th>\n",
       "      <th></th>\n",
       "      <th></th>\n",
       "      <th></th>\n",
       "      <th></th>\n",
       "      <th></th>\n",
       "      <th></th>\n",
       "      <th></th>\n",
       "    </tr>\n",
       "  </thead>\n",
       "  <tbody>\n",
       "    <tr>\n",
       "      <th>False</th>\n",
       "      <td>3177</td>\n",
       "      <td>3177</td>\n",
       "      <td>0</td>\n",
       "      <td>3177</td>\n",
       "      <td>3177</td>\n",
       "      <td>3177</td>\n",
       "      <td>3177</td>\n",
       "    </tr>\n",
       "  </tbody>\n",
       "</table>\n",
       "</div>"
      ],
      "text/plain": [
       "              creation_time  creation_source  last_session_creation_time  \\\n",
       "adopted_user                                                               \n",
       "False                  3177             3177                           0   \n",
       "\n",
       "              opted_in_to_mailing_list  enabled_for_marketing_drip  \\\n",
       "adopted_user                                                         \n",
       "False                             3177                        3177   \n",
       "\n",
       "              org_id_counts  invited_id_counts  \n",
       "adopted_user                                    \n",
       "False                  3177               3177  "
      ]
     },
     "execution_count": 88,
     "metadata": {},
     "output_type": "execute_result"
    }
   ],
   "source": [
    "users[users['last_session_creation_time'].isnull()].groupby('adopted_user').count()\n"
   ]
  },
  {
   "cell_type": "code",
   "execution_count": 90,
   "id": "differential-baseball",
   "metadata": {},
   "outputs": [],
   "source": [
    "users.last_session_creation_time.fillna(-1, inplace=True)"
   ]
  },
  {
   "cell_type": "markdown",
   "id": "generic-reputation",
   "metadata": {},
   "source": [
    "No nulls!"
   ]
  },
  {
   "cell_type": "code",
   "execution_count": 91,
   "id": "comparable-breakdown",
   "metadata": {},
   "outputs": [
    {
     "name": "stdout",
     "output_type": "stream",
     "text": [
      "<class 'pandas.core.frame.DataFrame'>\n",
      "Int64Index: 12000 entries, 1 to 12000\n",
      "Data columns (total 8 columns):\n",
      " #   Column                      Non-Null Count  Dtype         \n",
      "---  ------                      --------------  -----         \n",
      " 0   creation_time               12000 non-null  datetime64[ns]\n",
      " 1   creation_source             12000 non-null  object        \n",
      " 2   last_session_creation_time  12000 non-null  float64       \n",
      " 3   opted_in_to_mailing_list    12000 non-null  object        \n",
      " 4   enabled_for_marketing_drip  12000 non-null  object        \n",
      " 5   org_id_counts               12000 non-null  int64         \n",
      " 6   invited_id_counts           12000 non-null  int64         \n",
      " 7   adopted_user                12000 non-null  bool          \n",
      "dtypes: bool(1), datetime64[ns](1), float64(1), int64(2), object(3)\n",
      "memory usage: 1019.8+ KB\n"
     ]
    }
   ],
   "source": [
    "users.info()"
   ]
  },
  {
   "cell_type": "code",
   "execution_count": 92,
   "id": "filled-workshop",
   "metadata": {},
   "outputs": [],
   "source": [
    "users_dum = pd.get_dummies(users, drop_first=True)"
   ]
  },
  {
   "cell_type": "code",
   "execution_count": 94,
   "id": "motivated-synthetic",
   "metadata": {},
   "outputs": [
    {
     "data": {
      "text/plain": [
       "(11,\n",
       " Index(['creation_time', 'last_session_creation_time', 'org_id_counts',\n",
       "        'invited_id_counts', 'adopted_user', 'creation_source_ORG_INVITE',\n",
       "        'creation_source_PERSONAL_PROJECTS', 'creation_source_SIGNUP',\n",
       "        'creation_source_SIGNUP_GOOGLE_AUTH', 'opted_in_to_mailing_list_1',\n",
       "        'enabled_for_marketing_drip_1'],\n",
       "       dtype='object'))"
      ]
     },
     "execution_count": 94,
     "metadata": {},
     "output_type": "execute_result"
    }
   ],
   "source": [
    "# 11 features\n",
    "len(users_dum.columns), users_dum.columns"
   ]
  },
  {
   "cell_type": "markdown",
   "id": "advance-software",
   "metadata": {},
   "source": [
    "Define X and y"
   ]
  },
  {
   "cell_type": "code",
   "execution_count": 113,
   "id": "forty-russian",
   "metadata": {},
   "outputs": [],
   "source": [
    "X = users_dum.drop(['adopted_user','creation_time'], axis=1)\n",
    "y = users_dum['adopted_user']"
   ]
  },
  {
   "cell_type": "code",
   "execution_count": 114,
   "id": "unlimited-brown",
   "metadata": {},
   "outputs": [],
   "source": [
    "X_train, X_test, y_train, y_test = train_test_split(X, y, test_size=0.2, random_state=42)"
   ]
  },
  {
   "cell_type": "code",
   "execution_count": 96,
   "id": "expressed-anthony",
   "metadata": {},
   "outputs": [],
   "source": [
    "clf = RandomForestClassifier(\n",
    "    class_weight='balanced', \n",
    "    max_features='sqrt', \n",
    "    n_estimators=300, random_state = 123, n_jobs=-1)"
   ]
  },
  {
   "cell_type": "code",
   "execution_count": 115,
   "id": "revised-community",
   "metadata": {},
   "outputs": [
    {
     "name": "stdout",
     "output_type": "stream",
     "text": [
      "Random Forest: Test Accuracy=0.903\n",
      "Random Forest: Test Precision=0.687\n",
      "Random Forest: Test Recall=0.573\n",
      "[[1975   88]\n",
      " [ 144  193]]\n",
      "Random Forest: Train Accuracy=1.000\n",
      "Random Forest: Train Precision=1.000\n",
      "Random Forest: Train Recall=1.000\n"
     ]
    }
   ],
   "source": [
    "model_res = clf.fit(X_train, y_train)\n",
    "y_pred = model_res.predict(X_test)\n",
    "y_pred_prob = model_res.predict_proba(X_test)\n",
    "lr_probs = y_pred_prob[:,1]\n",
    "\n",
    "ac = accuracy_score(y_test, y_pred)\n",
    "rec = recall_score(y_test, y_pred)\n",
    "prec = precision_score(y_test, y_pred)\n",
    "cm = confusion_matrix(y_test, y_pred)\n",
    "\n",
    "print('Random Forest: Test Accuracy=%.3f' % (ac))\n",
    "print('Random Forest: Test Precision=%.3f' % (prec))\n",
    "print('Random Forest: Test Recall=%.3f' % (rec))\n",
    "print(cm)\n",
    "y_pred_train = model_res.predict(X_train)\n",
    "train_ac = accuracy_score(y_train, y_pred_train)\n",
    "train_rec = recall_score(y_train, y_pred_train)\n",
    "train_prec = precision_score(y_train, y_pred_train)\n",
    "print('Random Forest: Train Accuracy=%.3f' % (train_ac))\n",
    "print('Random Forest: Train Precision=%.3f' % (train_prec))\n",
    "print('Random Forest: Train Recall=%.3f' % (train_rec))\n"
   ]
  },
  {
   "cell_type": "markdown",
   "id": "ongoing-possession",
   "metadata": {},
   "source": [
    "Serious overfitting. Try tuning"
   ]
  },
  {
   "cell_type": "code",
   "execution_count": 116,
   "id": "welsh-pitch",
   "metadata": {},
   "outputs": [],
   "source": [
    "# Number of trees in random forest\n",
    "n_estimators = [50,150,300]\n",
    "# Number of features to consider at every split\n",
    "max_features = ['sqrt','log2']\n",
    "# Maximum number of levels in tree\n",
    "max_depth = [3,5,7,None]\n",
    "# Minimum number of samples required to split a node\n",
    "min_samples_split = [2, 5, 10, 50]\n",
    "# Minimum number of samples required at each leaf node\n",
    "min_samples_leaf = [1, 2, 5, 20]\n",
    "# Method of selecting samples for training each tree\n",
    "bootstrap = [True, False]\n",
    "# Method of class balance\n",
    "class_weight=['balanced','balanced_subsample',None]\n",
    "# Create the random grid\n",
    "random_grid = {'n_estimators': n_estimators,\n",
    "               'max_features': max_features,\n",
    "               'max_depth': max_depth,\n",
    "               'min_samples_split': min_samples_split,\n",
    "               'min_samples_leaf': min_samples_leaf,\n",
    "               'bootstrap': bootstrap,\n",
    "               'class_weight':class_weight}"
   ]
  },
  {
   "cell_type": "code",
   "execution_count": 118,
   "id": "usual-enhancement",
   "metadata": {},
   "outputs": [
    {
     "data": {
      "text/plain": [
       "{'n_estimators': 150,\n",
       " 'min_samples_split': 50,\n",
       " 'min_samples_leaf': 5,\n",
       " 'max_features': 'sqrt',\n",
       " 'max_depth': None,\n",
       " 'class_weight': 'balanced_subsample',\n",
       " 'bootstrap': False}"
      ]
     },
     "execution_count": 118,
     "metadata": {},
     "output_type": "execute_result"
    }
   ],
   "source": [
    "\n",
    "# Use the random grid to search for best hyperparameters\n",
    "rf = RandomForestClassifier()\n",
    "# Random search of parameters, using 5 fold cross validation, \n",
    "# search across 200 different combinations\n",
    "rf_random = RandomizedSearchCV(estimator = rf, param_distributions = random_grid, scoring='recall', n_iter = 200, cv = 5, random_state=42, n_jobs = -1)\n",
    "# Fit the random search model\n",
    "rf_random.fit(X_train,y_train)\n",
    "rf_random.best_params_"
   ]
  },
  {
   "cell_type": "code",
   "execution_count": 119,
   "id": "endangered-answer",
   "metadata": {},
   "outputs": [],
   "source": [
    "clf = RandomForestClassifier(\n",
    "    class_weight='balanced_subsample', \n",
    "    max_features='sqrt',\n",
    "    min_samples_split=50,\n",
    "    min_samples_leaf=5,\n",
    "    n_estimators=150, random_state = 123, n_jobs=-1)"
   ]
  },
  {
   "cell_type": "code",
   "execution_count": 120,
   "id": "rising-million",
   "metadata": {},
   "outputs": [
    {
     "name": "stdout",
     "output_type": "stream",
     "text": [
      "Random Forest: Test Accuracy=0.905\n",
      "Random Forest: Test Precision=0.641\n",
      "Random Forest: Test Recall=0.742\n",
      "[[1923  140]\n",
      " [  87  250]]\n",
      "Random Forest: Train Accuracy=0.914\n",
      "Random Forest: Train Precision=0.657\n",
      "Random Forest: Train Recall=0.782\n"
     ]
    }
   ],
   "source": [
    "model_res = clf.fit(X_train, y_train)\n",
    "y_pred = model_res.predict(X_test)\n",
    "y_pred_prob = model_res.predict_proba(X_test)\n",
    "lr_probs = y_pred_prob[:,1]\n",
    "\n",
    "ac = accuracy_score(y_test, y_pred)\n",
    "rec = recall_score(y_test, y_pred)\n",
    "prec = precision_score(y_test, y_pred)\n",
    "cm = confusion_matrix(y_test, y_pred)\n",
    "\n",
    "print('Random Forest: Test Accuracy=%.3f' % (ac))\n",
    "print('Random Forest: Test Precision=%.3f' % (prec))\n",
    "print('Random Forest: Test Recall=%.3f' % (rec))\n",
    "print(cm)\n",
    "y_pred_train = model_res.predict(X_train)\n",
    "train_ac = accuracy_score(y_train, y_pred_train)\n",
    "train_rec = recall_score(y_train, y_pred_train)\n",
    "train_prec = precision_score(y_train, y_pred_train)\n",
    "print('Random Forest: Train Accuracy=%.3f' % (train_ac))\n",
    "print('Random Forest: Train Precision=%.3f' % (train_prec))\n",
    "print('Random Forest: Train Recall=%.3f' % (train_rec))\n"
   ]
  },
  {
   "cell_type": "markdown",
   "id": "dceade02",
   "metadata": {},
   "source": [
    "Model is much better with tuning"
   ]
  },
  {
   "cell_type": "code",
   "execution_count": 122,
   "id": "ambient-legislature",
   "metadata": {},
   "outputs": [
    {
     "data": {
      "image/png": "[encoded data removed]",
      "text/plain": [
       "<Figure size 720x720 with 1 Axes>"
      ]
     },
     "metadata": {
      "needs_background": "light"
     },
     "output_type": "display_data"
    }
   ],
   "source": [
    "size=8\n",
    "feature_importance = clf.feature_importances_\n",
    "feature_importance = 100.0 * (feature_importance / feature_importance.max())\n",
    "importance_unsorted = pd.DataFrame({'feature':X.columns,'importance':feature_importance})\n",
    "importance_sorted = importance_unsorted.sort_values(by='importance',ascending=False)\n",
    "pos = np.arange(size) + .5\n",
    "plt.figure(figsize=(10,10))\n",
    "plt.barh(pos, importance_sorted['importance'][:size], align='center')\n",
    "plt.yticks(pos, importance_sorted['feature'][:size])\n",
    "plt.xlabel('Relative Importance')\n",
    "plt.title('Variable Importance')\n",
    "plt.show()"
   ]
  },
  {
   "cell_type": "markdown",
   "id": "overall-appreciation",
   "metadata": {},
   "source": [
    "The most important feature by far is last session creation time. "
   ]
  }
 ],
 "metadata": {
  "kernelspec": {
   "display_name": "Python 3",
   "language": "python",
   "name": "python3"
  },
  "language_info": {
   "codemirror_mode": {
    "name": "ipython",
    "version": 3
   },
   "file_extension": ".py",
   "mimetype": "text/x-python",
   "name": "python",
   "nbconvert_exporter": "python",
   "pygments_lexer": "ipython3",
   "version": "3.7.10"
  }
 },
 "nbformat": 4,
 "nbformat_minor": 5
}
